{
  "nbformat": 4,
  "nbformat_minor": 0,
  "metadata": {
    "colab": {
      "provenance": []
    },
    "kernelspec": {
      "name": "python3",
      "display_name": "Python 3"
    },
    "language_info": {
      "name": "python"
    }
  },
  "cells": [
    {
      "cell_type": "markdown",
      "source": [
        "#Data Bootcamp Selection Challenge\n",
        "#####In this challenge you will calculate various KPIs using a car based dataset, each question will have a single correct answer that will be evaluated through automated unit testing. Use the dictionary provided below to fill in your answers, each question will state the format required for the answer and examples are provided so you know how properly fill the answer dictionary.\n",
        "#####**Use the dataset \"as is\" and do not perform any data cleaning or modify it in any way, doing so could make you answer all your questions incorrectly. Do not modify the structure of the answer dictionary.**\n",
        "\n",
        "#####When you finish this challenge please upload both your notebook and your answer dictionary in pickle format to a public github repository submit their URL to the [google form](https://forms.gle/jqufStbvLd99bF539) that was provided to you.\n",
        "\n",
        "##### Some unit tests are provided at the end of this notebook to help you verify your answers are in the correct format, however they will not test everything.\n",
        "\n",
        "\n",
        "\n"
      ],
      "metadata": {
        "id": "Ab6tQ8XLwqzG"
      }
    },
    {
      "cell_type": "code",
      "execution_count": 1,
      "metadata": {
        "id": "1kj3oTmRvWXi"
      },
      "outputs": [],
      "source": [
        "#Use this dictionary to store your answers in the correct format in the cells below , do not modify the keys\n",
        "answer_dict =  {\"Q1\" : None,\n",
        "                \"Q2\" : None,\n",
        "                \"Q3\" : None,\n",
        "                \"Q4\" : None,\n",
        "                \"Q5\" : None,\n",
        "                \"Q6\" : None,\n",
        "                \"Q7\" : None}"
      ]
    },
    {
      "cell_type": "markdown",
      "source": [
        "##Reading the dataset\n",
        "#####An example is provided to read the dataset using [pandas](https://pandas.pydata.org/), while we reccommend using pandas you may use any python library to solve this challenge."
      ],
      "metadata": {
        "id": "Z0pZ4Vlx3VZy"
      }
    },
    {
      "cell_type": "code",
      "source": [
        "import pandas as pd\n",
        "import numpy as np\n",
        "url = \"https://storage.googleapis.com/deb-evaluation-materials/vehicles.csv\"\n",
        "df = pd.read_csv(url)"
      ],
      "metadata": {
        "id": "7U3UNKSj3oxa"
      },
      "execution_count": 2,
      "outputs": []
    },
    {
      "cell_type": "code",
      "source": [
        "df.head()"
      ],
      "metadata": {
        "id": "J10uW58Qv2B_",
        "colab": {
          "base_uri": "https://localhost:8080/",
          "height": 530
        },
        "outputId": "f9bf6433-1e0f-47d1-f8bc-98441b2424cb"
      },
      "execution_count": 3,
      "outputs": [
        {
          "output_type": "execute_result",
          "data": {
            "text/plain": [
              "               Make                Model  Year  Engine Displacement  \\\n",
              "0        AM General    DJ Po Vehicle 2WD  1984                  2.5   \n",
              "1        AM General     FJ8c Post Office  1984                  4.2   \n",
              "2        AM General  Post Office DJ5 2WD  1985                  2.5   \n",
              "3        AM General  Post Office DJ8 2WD  1985                  4.2   \n",
              "4  ASC Incorporated                  GNX  1987                  3.8   \n",
              "\n",
              "   Cylinders     Transmission        Drivetrain                Vehicle Class  \\\n",
              "0        4.0  Automatic 3-spd     2-Wheel Drive  Special Purpose Vehicle 2WD   \n",
              "1        6.0  Automatic 3-spd     2-Wheel Drive  Special Purpose Vehicle 2WD   \n",
              "2        4.0  Automatic 3-spd  Rear-Wheel Drive  Special Purpose Vehicle 2WD   \n",
              "3        6.0  Automatic 3-spd  Rear-Wheel Drive  Special Purpose Vehicle 2WD   \n",
              "4        6.0  Automatic 4-spd  Rear-Wheel Drive                 Midsize Cars   \n",
              "\n",
              "  Fuel Type  Fuel Barrels/Year  City MPG  Highway MPG  Combined MPG  \\\n",
              "0   Regular          19.388824        18           17            17   \n",
              "1   Regular          25.354615        13           13            13   \n",
              "2   Regular          20.600625        16           17            16   \n",
              "3   Regular          25.354615        13           13            13   \n",
              "4   Premium          20.600625        14           21            16   \n",
              "\n",
              "   CO2 Emission Grams/Mile  Fuel Cost/Year  \n",
              "0               522.764706            1950  \n",
              "1               683.615385            2550  \n",
              "2               555.437500            2100  \n",
              "3               683.615385            2550  \n",
              "4               555.437500            2550  "
            ],
            "text/html": [
              "\n",
              "\n",
              "  <div id=\"df-bebeba57-5a0e-4721-aa9e-b5b886749f51\">\n",
              "    <div class=\"colab-df-container\">\n",
              "      <div>\n",
              "<style scoped>\n",
              "    .dataframe tbody tr th:only-of-type {\n",
              "        vertical-align: middle;\n",
              "    }\n",
              "\n",
              "    .dataframe tbody tr th {\n",
              "        vertical-align: top;\n",
              "    }\n",
              "\n",
              "    .dataframe thead th {\n",
              "        text-align: right;\n",
              "    }\n",
              "</style>\n",
              "<table border=\"1\" class=\"dataframe\">\n",
              "  <thead>\n",
              "    <tr style=\"text-align: right;\">\n",
              "      <th></th>\n",
              "      <th>Make</th>\n",
              "      <th>Model</th>\n",
              "      <th>Year</th>\n",
              "      <th>Engine Displacement</th>\n",
              "      <th>Cylinders</th>\n",
              "      <th>Transmission</th>\n",
              "      <th>Drivetrain</th>\n",
              "      <th>Vehicle Class</th>\n",
              "      <th>Fuel Type</th>\n",
              "      <th>Fuel Barrels/Year</th>\n",
              "      <th>City MPG</th>\n",
              "      <th>Highway MPG</th>\n",
              "      <th>Combined MPG</th>\n",
              "      <th>CO2 Emission Grams/Mile</th>\n",
              "      <th>Fuel Cost/Year</th>\n",
              "    </tr>\n",
              "  </thead>\n",
              "  <tbody>\n",
              "    <tr>\n",
              "      <th>0</th>\n",
              "      <td>AM General</td>\n",
              "      <td>DJ Po Vehicle 2WD</td>\n",
              "      <td>1984</td>\n",
              "      <td>2.5</td>\n",
              "      <td>4.0</td>\n",
              "      <td>Automatic 3-spd</td>\n",
              "      <td>2-Wheel Drive</td>\n",
              "      <td>Special Purpose Vehicle 2WD</td>\n",
              "      <td>Regular</td>\n",
              "      <td>19.388824</td>\n",
              "      <td>18</td>\n",
              "      <td>17</td>\n",
              "      <td>17</td>\n",
              "      <td>522.764706</td>\n",
              "      <td>1950</td>\n",
              "    </tr>\n",
              "    <tr>\n",
              "      <th>1</th>\n",
              "      <td>AM General</td>\n",
              "      <td>FJ8c Post Office</td>\n",
              "      <td>1984</td>\n",
              "      <td>4.2</td>\n",
              "      <td>6.0</td>\n",
              "      <td>Automatic 3-spd</td>\n",
              "      <td>2-Wheel Drive</td>\n",
              "      <td>Special Purpose Vehicle 2WD</td>\n",
              "      <td>Regular</td>\n",
              "      <td>25.354615</td>\n",
              "      <td>13</td>\n",
              "      <td>13</td>\n",
              "      <td>13</td>\n",
              "      <td>683.615385</td>\n",
              "      <td>2550</td>\n",
              "    </tr>\n",
              "    <tr>\n",
              "      <th>2</th>\n",
              "      <td>AM General</td>\n",
              "      <td>Post Office DJ5 2WD</td>\n",
              "      <td>1985</td>\n",
              "      <td>2.5</td>\n",
              "      <td>4.0</td>\n",
              "      <td>Automatic 3-spd</td>\n",
              "      <td>Rear-Wheel Drive</td>\n",
              "      <td>Special Purpose Vehicle 2WD</td>\n",
              "      <td>Regular</td>\n",
              "      <td>20.600625</td>\n",
              "      <td>16</td>\n",
              "      <td>17</td>\n",
              "      <td>16</td>\n",
              "      <td>555.437500</td>\n",
              "      <td>2100</td>\n",
              "    </tr>\n",
              "    <tr>\n",
              "      <th>3</th>\n",
              "      <td>AM General</td>\n",
              "      <td>Post Office DJ8 2WD</td>\n",
              "      <td>1985</td>\n",
              "      <td>4.2</td>\n",
              "      <td>6.0</td>\n",
              "      <td>Automatic 3-spd</td>\n",
              "      <td>Rear-Wheel Drive</td>\n",
              "      <td>Special Purpose Vehicle 2WD</td>\n",
              "      <td>Regular</td>\n",
              "      <td>25.354615</td>\n",
              "      <td>13</td>\n",
              "      <td>13</td>\n",
              "      <td>13</td>\n",
              "      <td>683.615385</td>\n",
              "      <td>2550</td>\n",
              "    </tr>\n",
              "    <tr>\n",
              "      <th>4</th>\n",
              "      <td>ASC Incorporated</td>\n",
              "      <td>GNX</td>\n",
              "      <td>1987</td>\n",
              "      <td>3.8</td>\n",
              "      <td>6.0</td>\n",
              "      <td>Automatic 4-spd</td>\n",
              "      <td>Rear-Wheel Drive</td>\n",
              "      <td>Midsize Cars</td>\n",
              "      <td>Premium</td>\n",
              "      <td>20.600625</td>\n",
              "      <td>14</td>\n",
              "      <td>21</td>\n",
              "      <td>16</td>\n",
              "      <td>555.437500</td>\n",
              "      <td>2550</td>\n",
              "    </tr>\n",
              "  </tbody>\n",
              "</table>\n",
              "</div>\n",
              "      <button class=\"colab-df-convert\" onclick=\"convertToInteractive('df-bebeba57-5a0e-4721-aa9e-b5b886749f51')\"\n",
              "              title=\"Convert this dataframe to an interactive table.\"\n",
              "              style=\"display:none;\">\n",
              "\n",
              "  <svg xmlns=\"http://www.w3.org/2000/svg\" height=\"24px\"viewBox=\"0 0 24 24\"\n",
              "       width=\"24px\">\n",
              "    <path d=\"M0 0h24v24H0V0z\" fill=\"none\"/>\n",
              "    <path d=\"M18.56 5.44l.94 2.06.94-2.06 2.06-.94-2.06-.94-.94-2.06-.94 2.06-2.06.94zm-11 1L8.5 8.5l.94-2.06 2.06-.94-2.06-.94L8.5 2.5l-.94 2.06-2.06.94zm10 10l.94 2.06.94-2.06 2.06-.94-2.06-.94-.94-2.06-.94 2.06-2.06.94z\"/><path d=\"M17.41 7.96l-1.37-1.37c-.4-.4-.92-.59-1.43-.59-.52 0-1.04.2-1.43.59L10.3 9.45l-7.72 7.72c-.78.78-.78 2.05 0 2.83L4 21.41c.39.39.9.59 1.41.59.51 0 1.02-.2 1.41-.59l7.78-7.78 2.81-2.81c.8-.78.8-2.07 0-2.86zM5.41 20L4 18.59l7.72-7.72 1.47 1.35L5.41 20z\"/>\n",
              "  </svg>\n",
              "      </button>\n",
              "\n",
              "\n",
              "\n",
              "    <div id=\"df-dd8e5900-8b93-47b4-901d-b1360336e11e\">\n",
              "      <button class=\"colab-df-quickchart\" onclick=\"quickchart('df-dd8e5900-8b93-47b4-901d-b1360336e11e')\"\n",
              "              title=\"Suggest charts.\"\n",
              "              style=\"display:none;\">\n",
              "\n",
              "<svg xmlns=\"http://www.w3.org/2000/svg\" height=\"24px\"viewBox=\"0 0 24 24\"\n",
              "     width=\"24px\">\n",
              "    <g>\n",
              "        <path d=\"M19 3H5c-1.1 0-2 .9-2 2v14c0 1.1.9 2 2 2h14c1.1 0 2-.9 2-2V5c0-1.1-.9-2-2-2zM9 17H7v-7h2v7zm4 0h-2V7h2v10zm4 0h-2v-4h2v4z\"/>\n",
              "    </g>\n",
              "</svg>\n",
              "      </button>\n",
              "    </div>\n",
              "\n",
              "<style>\n",
              "  .colab-df-quickchart {\n",
              "    background-color: #E8F0FE;\n",
              "    border: none;\n",
              "    border-radius: 50%;\n",
              "    cursor: pointer;\n",
              "    display: none;\n",
              "    fill: #1967D2;\n",
              "    height: 32px;\n",
              "    padding: 0 0 0 0;\n",
              "    width: 32px;\n",
              "  }\n",
              "\n",
              "  .colab-df-quickchart:hover {\n",
              "    background-color: #E2EBFA;\n",
              "    box-shadow: 0px 1px 2px rgba(60, 64, 67, 0.3), 0px 1px 3px 1px rgba(60, 64, 67, 0.15);\n",
              "    fill: #174EA6;\n",
              "  }\n",
              "\n",
              "  [theme=dark] .colab-df-quickchart {\n",
              "    background-color: #3B4455;\n",
              "    fill: #D2E3FC;\n",
              "  }\n",
              "\n",
              "  [theme=dark] .colab-df-quickchart:hover {\n",
              "    background-color: #434B5C;\n",
              "    box-shadow: 0px 1px 3px 1px rgba(0, 0, 0, 0.15);\n",
              "    filter: drop-shadow(0px 1px 2px rgba(0, 0, 0, 0.3));\n",
              "    fill: #FFFFFF;\n",
              "  }\n",
              "</style>\n",
              "\n",
              "    <script>\n",
              "      async function quickchart(key) {\n",
              "        const containerElement = document.querySelector('#' + key);\n",
              "        const charts = await google.colab.kernel.invokeFunction(\n",
              "            'suggestCharts', [key], {});\n",
              "      }\n",
              "    </script>\n",
              "\n",
              "      <script>\n",
              "\n",
              "function displayQuickchartButton(domScope) {\n",
              "  let quickchartButtonEl =\n",
              "    domScope.querySelector('#df-dd8e5900-8b93-47b4-901d-b1360336e11e button.colab-df-quickchart');\n",
              "  quickchartButtonEl.style.display =\n",
              "    google.colab.kernel.accessAllowed ? 'block' : 'none';\n",
              "}\n",
              "\n",
              "        displayQuickchartButton(document);\n",
              "      </script>\n",
              "      <style>\n",
              "    .colab-df-container {\n",
              "      display:flex;\n",
              "      flex-wrap:wrap;\n",
              "      gap: 12px;\n",
              "    }\n",
              "\n",
              "    .colab-df-convert {\n",
              "      background-color: #E8F0FE;\n",
              "      border: none;\n",
              "      border-radius: 50%;\n",
              "      cursor: pointer;\n",
              "      display: none;\n",
              "      fill: #1967D2;\n",
              "      height: 32px;\n",
              "      padding: 0 0 0 0;\n",
              "      width: 32px;\n",
              "    }\n",
              "\n",
              "    .colab-df-convert:hover {\n",
              "      background-color: #E2EBFA;\n",
              "      box-shadow: 0px 1px 2px rgba(60, 64, 67, 0.3), 0px 1px 3px 1px rgba(60, 64, 67, 0.15);\n",
              "      fill: #174EA6;\n",
              "    }\n",
              "\n",
              "    [theme=dark] .colab-df-convert {\n",
              "      background-color: #3B4455;\n",
              "      fill: #D2E3FC;\n",
              "    }\n",
              "\n",
              "    [theme=dark] .colab-df-convert:hover {\n",
              "      background-color: #434B5C;\n",
              "      box-shadow: 0px 1px 3px 1px rgba(0, 0, 0, 0.15);\n",
              "      filter: drop-shadow(0px 1px 2px rgba(0, 0, 0, 0.3));\n",
              "      fill: #FFFFFF;\n",
              "    }\n",
              "  </style>\n",
              "\n",
              "      <script>\n",
              "        const buttonEl =\n",
              "          document.querySelector('#df-bebeba57-5a0e-4721-aa9e-b5b886749f51 button.colab-df-convert');\n",
              "        buttonEl.style.display =\n",
              "          google.colab.kernel.accessAllowed ? 'block' : 'none';\n",
              "\n",
              "        async function convertToInteractive(key) {\n",
              "          const element = document.querySelector('#df-bebeba57-5a0e-4721-aa9e-b5b886749f51');\n",
              "          const dataTable =\n",
              "            await google.colab.kernel.invokeFunction('convertToInteractive',\n",
              "                                                     [key], {});\n",
              "          if (!dataTable) return;\n",
              "\n",
              "          const docLinkHtml = 'Like what you see? Visit the ' +\n",
              "            '<a target=\"_blank\" href=https://colab.research.google.com/notebooks/data_table.ipynb>data table notebook</a>'\n",
              "            + ' to learn more about interactive tables.';\n",
              "          element.innerHTML = '';\n",
              "          dataTable['output_type'] = 'display_data';\n",
              "          await google.colab.output.renderOutput(dataTable, element);\n",
              "          const docLink = document.createElement('div');\n",
              "          docLink.innerHTML = docLinkHtml;\n",
              "          element.appendChild(docLink);\n",
              "        }\n",
              "      </script>\n",
              "    </div>\n",
              "  </div>\n"
            ]
          },
          "metadata": {},
          "execution_count": 3
        }
      ]
    },
    {
      "cell_type": "code",
      "source": [
        "df.info()"
      ],
      "metadata": {
        "id": "LutcGEx8v4GY",
        "colab": {
          "base_uri": "https://localhost:8080/"
        },
        "outputId": "5cdcc591-6f2f-4f16-f1b1-325de54a89c5"
      },
      "execution_count": 4,
      "outputs": [
        {
          "output_type": "stream",
          "name": "stdout",
          "text": [
            "<class 'pandas.core.frame.DataFrame'>\n",
            "RangeIndex: 35952 entries, 0 to 35951\n",
            "Data columns (total 15 columns):\n",
            " #   Column                   Non-Null Count  Dtype  \n",
            "---  ------                   --------------  -----  \n",
            " 0   Make                     35952 non-null  object \n",
            " 1   Model                    35952 non-null  object \n",
            " 2   Year                     35952 non-null  int64  \n",
            " 3   Engine Displacement      35952 non-null  float64\n",
            " 4   Cylinders                35952 non-null  float64\n",
            " 5   Transmission             35952 non-null  object \n",
            " 6   Drivetrain               35952 non-null  object \n",
            " 7   Vehicle Class            35952 non-null  object \n",
            " 8   Fuel Type                35952 non-null  object \n",
            " 9   Fuel Barrels/Year        35952 non-null  float64\n",
            " 10  City MPG                 35952 non-null  int64  \n",
            " 11  Highway MPG              35952 non-null  int64  \n",
            " 12  Combined MPG             35952 non-null  int64  \n",
            " 13  CO2 Emission Grams/Mile  35952 non-null  float64\n",
            " 14  Fuel Cost/Year           35952 non-null  int64  \n",
            "dtypes: float64(4), int64(5), object(6)\n",
            "memory usage: 4.1+ MB\n"
          ]
        }
      ]
    },
    {
      "cell_type": "markdown",
      "source": [
        "##Q1. What is the average CO2 emmission per gram/mile of all Volkswagen cars?\n",
        "\n",
        "##### Format: A floating number\n",
        "##### Example answer:\n",
        " `11.547`"
      ],
      "metadata": {
        "id": "kLRp8K_wnEJG"
      }
    },
    {
      "cell_type": "code",
      "source": [
        "########## Q1\n",
        "#Your code here\n",
        "# Select all Volkswagen cars\n",
        "vw_cars = df[df['Make'] == 'Volkswagen']\n",
        "\n",
        "# Calculate the average CO2 emission per gram/mile\n",
        "average_co2_emission = vw_cars['CO2 Emission Grams/Mile'].mean()\n",
        "\n",
        "average_co2_emission = float(average_co2_emission)\n",
        "\n",
        "print(average_co2_emission)\n",
        "\n",
        "# Update the answer\n",
        "answer_dict[\"Q1\"] = average_co2_emission\n",
        "\n",
        "\n",
        "\n",
        "#Example answer:\n",
        "#answer_dict[\"Q1\"] =  11.547"
      ],
      "metadata": {
        "id": "jBGXf7RRnEoV",
        "colab": {
          "base_uri": "https://localhost:8080/"
        },
        "outputId": "eacd4997-6713-4b35-a135-7313d998704c"
      },
      "execution_count": 6,
      "outputs": [
        {
          "output_type": "stream",
          "name": "stdout",
          "text": [
            "392.74172108576107\n"
          ]
        }
      ]
    },
    {
      "cell_type": "markdown",
      "source": [
        "##Q2. Calculate the top 5 brands(Make) with the most unique models, order your answer in descending order with respect to the number of unique models.\n",
        "##### **NOTE:** Consider only the name of the models and their brand, that is use only the Make and Model columns\n",
        "##### Format: A 5X2 list with each row being the name of the brand followed by the unique number of models, in descending order.\n",
        "#####Hint: You can use the pandas [df.values.tolist()](https://pandas.pydata.org/docs/reference/api/pandas.Series.tolist.html) function to format your answer.\n",
        "\n",
        "##### Example answer:\n",
        "`[[\"Volkswagen\", 1000], [\"Toyota\", 900], [\"Honda\", 800], [\"Subaru\", 700], [\"Ford\", 600]]`"
      ],
      "metadata": {
        "id": "SPNq7yn74kjd"
      }
    },
    {
      "cell_type": "code",
      "source": [
        "########## Q2\n",
        "#Your code here\n",
        "\n",
        "# Top 5 brands with the most unique models\n",
        "top_brands = df.groupby('Make')['Model'].nunique().sort_values(ascending=False).head(5)\n",
        "\n",
        "# Change the result to the required format\n",
        "top_brands_list = top_brands.reset_index().values.tolist()\n",
        "\n",
        "print(top_brands_list)\n",
        "\n",
        "# Update the answer\n",
        "answer_dict[\"Q2\"] = top_brands_list\n",
        "\n",
        "\n",
        "#Example answer:\n",
        "#answer_dict[\"Q2\"] =  [[\"Volkswagen\", 1000], [\"Toyota\", 900], [\"Honda\", 800], [\"Subaru\", 700], [\"Ford\", 600]]"
      ],
      "metadata": {
        "id": "StipyFue4Dx-",
        "colab": {
          "base_uri": "https://localhost:8080/"
        },
        "outputId": "4e86c537-5cc7-4361-fbb3-2f2ac297800f"
      },
      "execution_count": 7,
      "outputs": [
        {
          "output_type": "stream",
          "name": "stdout",
          "text": [
            "[['Mercedes-Benz', 333], ['BMW', 284], ['Chevrolet', 253], ['Ford', 185], ['GMC', 163]]\n"
          ]
        }
      ]
    },
    {
      "cell_type": "markdown",
      "source": [
        "##Q3. What are all the different types of fuels in the dataset sorted alphabetically?\n",
        "##### Format: A list of strings sorted alphabetically.\n",
        "##### Example Answer:\n",
        "`['Regular',\n",
        " 'Premium']`"
      ],
      "metadata": {
        "id": "EGxv7N15AiLu"
      }
    },
    {
      "cell_type": "code",
      "source": [
        "########## Q3\n",
        "#Your code here\n",
        "# Get all the different fuel types and sort them alphabetically\n",
        "fuel_types = sorted(df['Fuel Type'].unique())\n",
        "\n",
        "# Create a set to store unique fuel types\n",
        "unique_fuel_types = set()\n",
        "\n",
        "# Iterate through each fuel type and add the unique type to the set\n",
        "for fuel_type in fuel_types:\n",
        "    unique_parts = fuel_type.split(' or ')\n",
        "    for part in unique_parts:\n",
        "        cleaned_part = part.strip().split(' ')[0].capitalize()\n",
        "        unique_fuel_types.add(cleaned_part)\n",
        "\n",
        "# Convert the set back to a sorted list\n",
        "unique_fuel_types_list = sorted(list(unique_fuel_types))\n",
        "\n",
        "print(unique_fuel_types_list)\n",
        "\n",
        "\n",
        "# Update the answer\n",
        "answer_dict[\"Q3\"] = unique_fuel_types_list\n",
        "\n",
        "\n",
        "#Example answer:\n",
        "#answer_dict[\"Q3\"] =  ['Regular', 'Premium']"
      ],
      "metadata": {
        "id": "otyDsWpsAjde",
        "colab": {
          "base_uri": "https://localhost:8080/"
        },
        "outputId": "7e06848c-ca63-4a90-acf1-41c5e8894651"
      },
      "execution_count": 8,
      "outputs": [
        {
          "output_type": "stream",
          "name": "stdout",
          "text": [
            "['Cng', 'Diesel', 'E85', 'Electricity', 'Gasoline', 'Midgrade', 'Natural', 'Premium', 'Propane', 'Regular']\n"
          ]
        }
      ]
    },
    {
      "cell_type": "markdown",
      "source": [
        "##Q4. Show the 9 Toyota cars with the most extreme Fuel Barrels/Year in abosolute terms within all Toyota cars. Show the car Model, Year and their Fuel Barrels/Year in standard deviation units([Z-score](https://fredclavel.org/2019/03/18/basics-standardization-and-the-z-score/)) **sorted** in descending order by their Fuel Barrels/Year in absolute terms first and then by year in descending order **BUT** without modifying the negative values (see example).\n",
        "\n",
        "##### Format: A 9X3 list with each row containing the Model, Year and Fuel Barrels/Year in standard deviations units\n",
        "\n",
        "##### Example answer:\n",
        "```\n",
        "[['DJ Po Vehicle 2WD', 2004, -6.407431084026927],\n",
        " ['FJ8c Post Office', 2003, -6.407431084026927],\n",
        " ['Post Office DJ5 2WD', 2005, -6.391684618442447],\n",
        " ['Sierra 2500 Hd 2WD', 2002, -6.391684618442447],\n",
        " ['Camry CNG', 2012, 2.677633075759575],\n",
        " ['Sierra 1500 4WD', 2005, 2.677633075759575],\n",
        " ['Sierra 1500 4WD', 2001, 2.677633075759575],\n",
        " ['V15 Suburban 4WD', 1988, 2.677633075759575],\n",
        " ['V15 Suburban 4WD', 1987, 2.677633075759575]]\n",
        "```\n",
        "#####Note that while the list is sorted by the Fuel Barrels/Year in absolute terms and in standard deviation units, the values are not modified. If the values are the same the rows are sorted by the year.\n"
      ],
      "metadata": {
        "id": "ijpZht03tV5W"
      }
    },
    {
      "cell_type": "code",
      "source": [
        "########## Q4\n",
        "#Your code here\n",
        "\n",
        "# Filter Toyota cars\n",
        "toyota_cars = df[df['Make'] == 'Toyota']\n",
        "\n",
        "# Calculate the Z-score of Fuel Barrels/Year for Toyota cars\n",
        "z_scores = (toyota_cars['Fuel Barrels/Year'] - toyota_cars['Fuel Barrels/Year'].mean()) / toyota_cars['Fuel Barrels/Year'].std()\n",
        "\n",
        "# Add Z-scores to the dataframe\n",
        "toyota_cars['Z-score'] = z_scores\n",
        "\n",
        "# Get the 9 cars with the most extreme Z-scores\n",
        "extreme_cars = toyota_cars.nsmallest(9, 'Z-score', keep='all')\n",
        "\n",
        "# Select relevant columns and format the results as specified\n",
        "extreme_cars_result = []\n",
        "for _, row in extreme_cars.iterrows():\n",
        "    model = row['Model']\n",
        "    year = row['Year']\n",
        "    z_score = row['Z-score']\n",
        "    extreme_cars_result.append([model, year, z_score])\n",
        "\n",
        "print(extreme_cars_result)\n",
        "\n",
        "# Update the answer\n",
        "answer_dict[\"Q4\"] = extreme_cars_result\n",
        "\n"
      ],
      "metadata": {
        "id": "de_GgmrFVcvO",
        "colab": {
          "base_uri": "https://localhost:8080/"
        },
        "outputId": "2ff1ba38-205c-4c59-f941-2d3221c7e9a8"
      },
      "execution_count": 9,
      "outputs": [
        {
          "output_type": "stream",
          "name": "stdout",
          "text": [
            "[['Camry CNG', 1999, -3.932541757118523], ['Camry CNG', 2000, -3.9316423754756857], ['Camry CNG', 2001, -3.9316423754756857], ['Prius Plug-in Hybrid', 2013, -2.7932888198837302], ['Prius Plug-in Hybrid', 2014, -2.7932888198837302], ['Prius Plug-in Hybrid', 2015, -2.7932888198837302], ['Prius Plug-in Hybrid', 2012, -2.791461492866434], ['Prius Eco', 2016, -2.5122238642099197], ['Prius Eco', 2017, -2.5122238642099197]]\n"
          ]
        },
        {
          "output_type": "stream",
          "name": "stderr",
          "text": [
            "<ipython-input-9-25584d72a1a6>:11: SettingWithCopyWarning: \n",
            "A value is trying to be set on a copy of a slice from a DataFrame.\n",
            "Try using .loc[row_indexer,col_indexer] = value instead\n",
            "\n",
            "See the caveats in the documentation: https://pandas.pydata.org/pandas-docs/stable/user_guide/indexing.html#returning-a-view-versus-a-copy\n",
            "  toyota_cars['Z-score'] = z_scores\n"
          ]
        }
      ]
    },
    {
      "cell_type": "markdown",
      "source": [
        "##Q5. Calculate the changes in Combined MPG with their previous model of all Golf cars with Manual 5-spd transmission and Regular Fuel Type. Show the Year, the Combined MPG and the calculated difference of MPG in a list sorted by Year in ascending order.\n",
        "\n",
        "##### Format: A 19X3 list, with the Year and Combined MPG being of type integer **and only the calculated difference is of type float**\n",
        "##### **Note: The value for the first model should be 0.** It does not matter that there are gaps in the years, calculate with respect the previous model.\n",
        "\n",
        "#####Example answer:\n",
        "\n",
        "\n",
        "\n",
        "```\n",
        "[[1986, 25, 0.0],\n",
        " [1987, 25, 0.0],\n",
        " [1988, 25, 0.0],\n",
        " [1989, 25, 0.0],\n",
        " [1990, 23, -2.0],\n",
        " [1991, 23, 0.0],\n",
        " [1992, 24, 1.0],\n",
        " [1993, 25, 1.0],\n",
        " [1994, 25, 0.0],\n",
        " [1995, 25, 0.0],\n",
        " [1996, 25, 0.0],\n",
        " [1997, 25, 0.0],\n",
        " [1998, 24, -1.0],\n",
        " [1999, 25, 1.0],\n",
        " [2000, 24, -1.0],\n",
        " [2001, 24, 0.0],\n",
        " [2002, 24, 0.0],\n",
        " [2004, 24, 0.0],\n",
        " [2006, 24, 0.0]]\n",
        "```\n",
        "\n",
        "\n",
        "\n"
      ],
      "metadata": {
        "id": "7eCpEljJnXzt"
      }
    },
    {
      "cell_type": "code",
      "source": [
        "########## Q5\n",
        "#Your code here\n",
        "\n",
        "## Filter Golf cars with Manual 5-spd transmission and Regular Fuel Type\n",
        "filtered_cars = df[(df['Model'] == 'Golf') &\n",
        "                   (df['Transmission'] == 'Manual 5-spd') &\n",
        "                   (df['Fuel Type'] == 'Regular')]\n",
        "\n",
        "\n",
        "# Sort the filtered cars by year\n",
        "filtered_cars = filtered_cars.sort_values(by='Year')\n",
        "\n",
        "# Calculate the changes in Combined MPG with respect to the previous model\n",
        "filtered_cars['MPG Change'] = filtered_cars['Combined MPG'].diff()\n",
        "\n",
        "# Set the first model's change to 0.0\n",
        "filtered_cars.loc[filtered_cars.index[0], 'MPG Change'] = 0.0\n",
        "\n",
        "# Select relevant columns and format the results as integers and float\n",
        "mpg_changes = filtered_cars[['Year', 'Combined MPG', 'MPG Change']].values.tolist()\n",
        "mpg_changes = [[int(year), int(combined_mpg), change] for year, combined_mpg, change in mpg_changes]\n",
        "\n",
        "print(mpg_changes)\n",
        "\n",
        "# Update the answer\n",
        "answer_dict[\"Q5\"] = mpg_changes\n",
        "\n"
      ],
      "metadata": {
        "id": "lMlKfEWUH3S9",
        "colab": {
          "base_uri": "https://localhost:8080/"
        },
        "outputId": "f792d250-86bd-4aff-ea85-a828f70ca6ca"
      },
      "execution_count": 11,
      "outputs": [
        {
          "output_type": "stream",
          "name": "stdout",
          "text": [
            "[[1986, 26, 0.0], [1987, 26, 0.0], [1988, 25, -1.0], [1989, 25, 0.0], [1999, 24, -1.0], [2000, 24, 0.0], [2001, 24, 0.0], [2002, 24, 0.0], [2003, 24, 0.0], [2004, 24, 0.0], [2005, 24, 0.0], [2006, 24, 0.0], [2010, 25, 1.0], [2011, 26, 1.0], [2012, 26, 0.0], [2013, 26, 0.0], [2015, 30, 4.0], [2016, 30, 0.0], [2017, 29, -1.0]]\n"
          ]
        }
      ]
    },
    {
      "cell_type": "markdown",
      "source": [
        "##Q6. What are the top 5 lowest CO2 Emission Grams/Mile emmisions of cars for each of the following brands: Toyota, Ford, Volkswagen, Nissan, Honda\n",
        "\n",
        "#####Format: A 5X6 list with the first element of each row being the Make of the cars and the following five values being floats sorted in ascending order. The Makes should appear in order listed in the question starting with Toyota and ending with Honda (see example).\n",
        "\n",
        "#####Example answer:\n",
        "\n",
        "```\n",
        "[['Toyota', 100.0, 140.0, 140.0, 150.0, 150.0],\n",
        " ['Ford',\n",
        "  100.025641025641,\n",
        "  200.677633075759575,\n",
        "  200.677633075759575,\n",
        "  200.677633075759575,\n",
        "  200.677633075759575],\n",
        " ['Volkswagen', 139.0, 154.0, 166.5, 166.5, 166.5],\n",
        " ['Nissan', 122.0, 122.0, 122.0, 122.0, 160.0],\n",
        " ['Honda', 100.0, 100.0, 100.0, 100.0, 123.91684618442447]]\n",
        "```\n",
        "\n",
        "\n",
        "\n",
        "\n"
      ],
      "metadata": {
        "id": "EnHdqUs-nagE"
      }
    },
    {
      "cell_type": "code",
      "source": [
        "########## Q6\n",
        "#Your code here\n",
        "\n",
        "# List of brands to consider\n",
        "brands_to_consider = ['Toyota', 'Ford', 'Volkswagen', 'Nissan', 'Honda']\n",
        "\n",
        "# Create a list to store the results for each brand\n",
        "brand_results = []\n",
        "\n",
        "# Iterate through each brand\n",
        "for brand in brands_to_consider:\n",
        "    # Filter cars of the current brand\n",
        "    brand_cars = df[df['Make'] == brand]\n",
        "\n",
        "    # Sort the cars by CO2 Emission Grams/Mile and select the top 5 with lowest emissions\n",
        "    top_emissions = brand_cars.nsmallest(5, 'CO2 Emission Grams/Mile')\n",
        "\n",
        "    # Select only the CO2 Emission Grams/Mile values and convert to a list\n",
        "    emissions_values = top_emissions['CO2 Emission Grams/Mile'].tolist()\n",
        "\n",
        "    # Create a row for the brand with the brand name followed by the emissions values\n",
        "    brand_row = [brand] + emissions_values\n",
        "\n",
        "    # Add the row to the results list\n",
        "    brand_results.append(brand_row)\n",
        "\n",
        "print(brand_results)\n",
        "\n",
        "# Update the answer\n",
        "answer_dict[\"Q6\"] = brand_results\n",
        "\n",
        "\n"
      ],
      "metadata": {
        "id": "8KKg3bT6na41",
        "colab": {
          "base_uri": "https://localhost:8080/"
        },
        "outputId": "51a13f6e-84e0-487a-a3b2-f90d79b9524d"
      },
      "execution_count": 12,
      "outputs": [
        {
          "output_type": "stream",
          "name": "stdout",
          "text": [
            "[['Toyota', 133.0, 133.0, 133.0, 133.0, 158.0], ['Ford', 112.0, 129.0, 129.0, 129.0, 129.0], ['Volkswagen', 200.0, 200.0, 200.0, 200.0, 261.025641025641], ['Nissan', 249.0, 254.0, 254.5, 254.5, 254.5], ['Honda', 130.0, 167.67924528301887, 167.67924528301887, 167.67924528301887, 167.67924528301887]]\n"
          ]
        }
      ]
    },
    {
      "cell_type": "markdown",
      "source": [
        "##Q7. Form 7 groups of 5 years to calculated the median Combined MPG of each group. The first group is from 1984 to 1988, the second from 1989 to 1993 and so on. The last group will have years not appearing in the dataset.\n",
        "\n",
        "#####Note: The groups ranges are inclusive on both sides, the first group starts with 1984 and cars from 1984 are included in it.\n",
        "#####Format : A 7X2 list with the first element of each row being a tuple of two integers being the lower and uppper range of the year groups and the esecond element being the median Combined MPG of that group, a float number.\n",
        "\n",
        "#####Example answer:\n",
        "\n",
        "\n",
        "```\n",
        "[[(1984, 1988), 11.0],\n",
        " [(1989, 1993), 10.0],\n",
        " [(1994, 1998), 10.0],\n",
        " [(1999, 2003), 14.0],\n",
        " [(2004, 2008), 13.0],\n",
        " [(2009, 2013), 14.0],\n",
        " [(2014, 2018), 15.0]]\n",
        "```\n",
        "\n"
      ],
      "metadata": {
        "id": "gDNo1Fcesgk5"
      }
    },
    {
      "cell_type": "code",
      "source": [
        "########## Q7\n",
        "#Your code here\n",
        "\n",
        "# Form 7 groups of 5 years each\n",
        "year_groups = [(start_year, start_year + 4) for start_year in range(1984, 2019, 5)]\n",
        "\n",
        "# Calculate the median Combined MPG for each year group\n",
        "median_mpg_by_year_group = []\n",
        "\n",
        "for start_year, end_year in year_groups:\n",
        "    year_group = df[(df['Year'] >= start_year) & (df['Year'] <= end_year)]\n",
        "    median_mpg = float(year_group['Combined MPG'].median())  # Convert to built-in float\n",
        "    median_mpg_by_year_group.append([(start_year, end_year), median_mpg])\n",
        "\n",
        "print(median_mpg_by_year_group)\n",
        "\n",
        "# Update the answer\n",
        "answer_dict[\"Q7\"] = median_mpg_by_year_group\n",
        "\n",
        "\n"
      ],
      "metadata": {
        "id": "1cMEyFXVxBU3",
        "colab": {
          "base_uri": "https://localhost:8080/"
        },
        "outputId": "72d8310d-1337-4cf8-eebf-e22c014eaa74"
      },
      "execution_count": 13,
      "outputs": [
        {
          "output_type": "stream",
          "name": "stdout",
          "text": [
            "[[(1984, 1988), 19.0], [(1989, 1993), 18.0], [(1994, 1998), 19.0], [(1999, 2003), 19.0], [(2004, 2008), 19.0], [(2009, 2013), 21.0], [(2014, 2018), 22.0]]\n"
          ]
        }
      ]
    },
    {
      "cell_type": "markdown",
      "source": [
        "##Test your answers\n",
        "\n",
        "##### We provide you some tests to make sure your answer dictionary is in the correct format using unittest.\n",
        "##### These tests are not meant to be comprehensive, you should review all your answers carefully."
      ],
      "metadata": {
        "id": "LiGydnlQ4cX4"
      }
    },
    {
      "cell_type": "code",
      "source": [
        "import unittest\n",
        "\n",
        "class TestAnswers(unittest.TestCase):\n",
        "    def test_if_dict(self):\n",
        "        self.assertIsInstance(answer_dict, dict)\n",
        "\n",
        "    def test_keys(self):\n",
        "        self.assertEqual(list(answer_dict.keys()), ['Q1', 'Q2', 'Q3', 'Q4', 'Q5', 'Q6', 'Q7'])\n",
        "\n",
        "    def test_answers_types(self):\n",
        "        types_values = [type(k) for k in answer_dict.values()]\n",
        "        answer_types = [float, list, list, list, list, list, list]\n",
        "        self.assertEqual(types_values, answer_types)\n",
        "\n",
        "    def test_Q1(self):\n",
        "        self.assertEqual(type(answer_dict['Q1']), float)\n",
        "\n",
        "    def test_Q2_dim(self):\n",
        "        self.assertEqual(np.array(answer_dict['Q2']).shape, (5,2))\n",
        "\n",
        "    def test_Q2_types(self):\n",
        "        dtype1 = type(answer_dict['Q2'][0][0])\n",
        "        dtype2 = type(answer_dict['Q2'][0][1])\n",
        "        self.assertEqual([dtype1, dtype2], [str, int])\n",
        "\n",
        "    def test_Q3_types(self):\n",
        "        q3_types = set([type(item) for item in answer_dict['Q3']])\n",
        "        self.assertEqual(q3_types, {str})\n",
        "\n",
        "    def test_Q4_dim(self):\n",
        "        self.assertEqual(np.array(answer_dict['Q4']).shape, (9,3))\n",
        "\n",
        "    def test_Q4_types(self):\n",
        "        dtype1 = type(answer_dict['Q4'][0][0])\n",
        "        dtype2 = type(answer_dict['Q4'][0][1])\n",
        "        dtype3 = type(answer_dict['Q4'][0][2])\n",
        "        self.assertEqual([dtype1, dtype2, dtype3], [str, int, float])\n",
        "\n",
        "    def test_Q5_dim(self):\n",
        "        self.assertEqual(np.array(answer_dict['Q5']).shape, (19,3))\n",
        "\n",
        "    def test_Q5_types(self):\n",
        "        dtype1 = type(answer_dict['Q5'][0][0])\n",
        "        dtype2 = type(answer_dict['Q5'][0][1])\n",
        "        dtype3 = type(answer_dict['Q5'][0][2])\n",
        "        self.assertEqual([dtype1, dtype2, dtype3], [int, int, float])\n",
        "\n",
        "    def test_Q5_first_zero(self):\n",
        "        self.assertEqual(answer_dict['Q5'][0][2], 0)\n",
        "\n",
        "\n",
        "    def test_Q6_dim(self):\n",
        "        self.assertEqual(np.array(answer_dict['Q6']).shape, (5,6))\n",
        "\n",
        "    def test_Q5_types(self):\n",
        "        dtype1 = type(answer_dict['Q6'][0][0])\n",
        "        dtype2 = type(answer_dict['Q6'][0][1])\n",
        "        dtype3 = type(answer_dict['Q6'][0][2])\n",
        "        dtype4 = type(answer_dict['Q6'][0][3])\n",
        "        dtype5 = type(answer_dict['Q6'][0][4])\n",
        "        dtype6 = type(answer_dict['Q6'][0][5])\n",
        "        self.assertEqual([dtype1, dtype2, dtype3, dtype4, dtype5, dtype6], [str, float, float, float, float, float])\n",
        "\n",
        "    def test_Q6_check_first_and_last_brand(self):\n",
        "        first_brand = answer_dict['Q6'][0][0]\n",
        "        last_brand = answer_dict['Q6'][4][0]\n",
        "\n",
        "        self.assertEqual([first_brand, last_brand], [\"Toyota\", \"Honda\"])\n",
        "\n",
        "    def test_Q7_dim(self):\n",
        "        self.assertEqual(np.array(answer_dict['Q7'], dtype=object).shape, (7,2))\n",
        "\n",
        "    def test_Q7_types(self):\n",
        "        dtype1 = type(answer_dict['Q7'][0][0])\n",
        "        dtype2 = type(answer_dict['Q7'][0][1])\n",
        "        self.assertEqual([dtype1, dtype2], [tuple, float])\n",
        "\n",
        "unittest.main(argv=[''], verbosity=2, exit=False)"
      ],
      "metadata": {
        "id": "iNwVFmHZ4csn",
        "colab": {
          "base_uri": "https://localhost:8080/"
        },
        "outputId": "e0dd5d51-1f2e-4f1e-cd42-2aec7ea6d53d"
      },
      "execution_count": 14,
      "outputs": [
        {
          "output_type": "stream",
          "name": "stderr",
          "text": [
            "test_Q1 (__main__.TestAnswers) ... ok\n",
            "test_Q2_dim (__main__.TestAnswers) ... ok\n",
            "test_Q2_types (__main__.TestAnswers) ... ok\n",
            "test_Q3_types (__main__.TestAnswers) ... ok\n",
            "test_Q4_dim (__main__.TestAnswers) ... ok\n",
            "test_Q4_types (__main__.TestAnswers) ... ok\n",
            "test_Q5_dim (__main__.TestAnswers) ... ok\n",
            "test_Q5_first_zero (__main__.TestAnswers) ... ok\n",
            "test_Q5_types (__main__.TestAnswers) ... ok\n",
            "test_Q6_check_first_and_last_brand (__main__.TestAnswers) ... ok\n",
            "test_Q6_dim (__main__.TestAnswers) ... ok\n",
            "test_Q7_dim (__main__.TestAnswers) ... ok\n",
            "test_Q7_types (__main__.TestAnswers) ... ok\n",
            "test_answers_types (__main__.TestAnswers) ... ok\n",
            "test_if_dict (__main__.TestAnswers) ... ok\n",
            "test_keys (__main__.TestAnswers) ... ok\n",
            "\n",
            "----------------------------------------------------------------------\n",
            "Ran 16 tests in 0.045s\n",
            "\n",
            "OK\n"
          ]
        },
        {
          "output_type": "execute_result",
          "data": {
            "text/plain": [
              "<unittest.main.TestProgram at 0x784e9b338100>"
            ]
          },
          "metadata": {},
          "execution_count": 14
        }
      ]
    },
    {
      "cell_type": "markdown",
      "source": [
        "##Save your answers\n",
        "\n",
        "\n",
        "##### First, take a moment to evaluate your answers and make sure you have not missed anything\n",
        "\n",
        "##### Use the following code to save your answers in pickle format, change the filename using the following format:\n",
        "##### FIRSTNAME_LASTNAME_answers.pkl\n",
        "##### Example: Juan_Perez_answers.pkl\n",
        "\n",
        "##### If you are using google colab you can find your file on the left side bar by clicking the folder icon inside the sample_data folder. Remember to upload the pickle file and the notebook to github and submit their URLs to the [google form](https://forms.gle/jqufStbvLd99bF539)."
      ],
      "metadata": {
        "id": "O_Wx_D0kGjmc"
      }
    },
    {
      "cell_type": "code",
      "source": [
        "answer_dict"
      ],
      "metadata": {
        "id": "nCzU1sKMknfH",
        "colab": {
          "base_uri": "https://localhost:8080/"
        },
        "outputId": "241162fa-f2d9-4c96-e2c4-202add49a9e8"
      },
      "execution_count": 15,
      "outputs": [
        {
          "output_type": "execute_result",
          "data": {
            "text/plain": [
              "{'Q1': 392.74172108576107,\n",
              " 'Q2': [['Mercedes-Benz', 333],\n",
              "  ['BMW', 284],\n",
              "  ['Chevrolet', 253],\n",
              "  ['Ford', 185],\n",
              "  ['GMC', 163]],\n",
              " 'Q3': ['Cng',\n",
              "  'Diesel',\n",
              "  'E85',\n",
              "  'Electricity',\n",
              "  'Gasoline',\n",
              "  'Midgrade',\n",
              "  'Natural',\n",
              "  'Premium',\n",
              "  'Propane',\n",
              "  'Regular'],\n",
              " 'Q4': [['Camry CNG', 1999, -3.932541757118523],\n",
              "  ['Camry CNG', 2000, -3.9316423754756857],\n",
              "  ['Camry CNG', 2001, -3.9316423754756857],\n",
              "  ['Prius Plug-in Hybrid', 2013, -2.7932888198837302],\n",
              "  ['Prius Plug-in Hybrid', 2014, -2.7932888198837302],\n",
              "  ['Prius Plug-in Hybrid', 2015, -2.7932888198837302],\n",
              "  ['Prius Plug-in Hybrid', 2012, -2.791461492866434],\n",
              "  ['Prius Eco', 2016, -2.5122238642099197],\n",
              "  ['Prius Eco', 2017, -2.5122238642099197]],\n",
              " 'Q5': [[1986, 26, 0.0],\n",
              "  [1987, 26, 0.0],\n",
              "  [1988, 25, -1.0],\n",
              "  [1989, 25, 0.0],\n",
              "  [1999, 24, -1.0],\n",
              "  [2000, 24, 0.0],\n",
              "  [2001, 24, 0.0],\n",
              "  [2002, 24, 0.0],\n",
              "  [2003, 24, 0.0],\n",
              "  [2004, 24, 0.0],\n",
              "  [2005, 24, 0.0],\n",
              "  [2006, 24, 0.0],\n",
              "  [2010, 25, 1.0],\n",
              "  [2011, 26, 1.0],\n",
              "  [2012, 26, 0.0],\n",
              "  [2013, 26, 0.0],\n",
              "  [2015, 30, 4.0],\n",
              "  [2016, 30, 0.0],\n",
              "  [2017, 29, -1.0]],\n",
              " 'Q6': [['Toyota', 133.0, 133.0, 133.0, 133.0, 158.0],\n",
              "  ['Ford', 112.0, 129.0, 129.0, 129.0, 129.0],\n",
              "  ['Volkswagen', 200.0, 200.0, 200.0, 200.0, 261.025641025641],\n",
              "  ['Nissan', 249.0, 254.0, 254.5, 254.5, 254.5],\n",
              "  ['Honda',\n",
              "   130.0,\n",
              "   167.67924528301887,\n",
              "   167.67924528301887,\n",
              "   167.67924528301887,\n",
              "   167.67924528301887]],\n",
              " 'Q7': [[(1984, 1988), 19.0],\n",
              "  [(1989, 1993), 18.0],\n",
              "  [(1994, 1998), 19.0],\n",
              "  [(1999, 2003), 19.0],\n",
              "  [(2004, 2008), 19.0],\n",
              "  [(2009, 2013), 21.0],\n",
              "  [(2014, 2018), 22.0]]}"
            ]
          },
          "metadata": {},
          "execution_count": 15
        }
      ]
    },
    {
      "cell_type": "code",
      "source": [
        "import pickle\n",
        "\n",
        "file_name = \"NELSON_MWEMBE_answers.pkl\"\n",
        "path = \"\"\n",
        "\n",
        "with open(path+file_name, 'wb') as f:\n",
        "    pickle.dump(answer_dict, f, protocol=pickle.HIGHEST_PROTOCOL)"
      ],
      "metadata": {
        "id": "dEZ-vo0QGTeu"
      },
      "execution_count": 16,
      "outputs": []
    }
  ]
}